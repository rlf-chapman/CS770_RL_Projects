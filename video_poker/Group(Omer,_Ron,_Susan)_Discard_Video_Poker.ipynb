{
 "cells": [
  {
   "cell_type": "markdown",
   "metadata": {
    "id": "Q0IUFkp23p6C"
   },
   "source": [
    "## Video Poker using rllib and PPO"
   ]
  },
  {
   "cell_type": "code",
   "execution_count": 1,
   "metadata": {
    "colab": {
     "base_uri": "https://localhost:8080/"
    },
    "id": "tyFsS5jAvyg1",
    "outputId": "ebe26030-1ac3-4ab8-b0fa-c2284a7bf606"
   },
   "outputs": [
    {
     "name": "stdout",
     "output_type": "stream",
     "text": [
      "Requirement already satisfied: ray[rllib] in c:\\users\\fitz\\appdata\\roaming\\python\\python310\\site-packages (2.10.0)\n",
      "Requirement already satisfied: click>=7.0 in c:\\users\\fitz\\appdata\\roaming\\python\\python310\\site-packages (from ray[rllib]) (8.1.7)\n",
      "Requirement already satisfied: filelock in c:\\users\\fitz\\appdata\\local\\programs\\python\\python310\\lib\\site-packages (from ray[rllib]) (3.9.0)\n",
      "Requirement already satisfied: jsonschema in c:\\users\\fitz\\appdata\\local\\programs\\python\\python310\\lib\\site-packages (from ray[rllib]) (4.21.1)\n",
      "Requirement already satisfied: msgpack<2.0.0,>=1.0.0 in c:\\users\\fitz\\appdata\\roaming\\python\\python310\\site-packages (from ray[rllib]) (1.0.8)\n",
      "Requirement already satisfied: packaging in c:\\users\\fitz\\appdata\\local\\programs\\python\\python310\\lib\\site-packages (from ray[rllib]) (24.0)\n",
      "Requirement already satisfied: protobuf!=3.19.5,>=3.15.3 in c:\\users\\fitz\\appdata\\roaming\\python\\python310\\site-packages (from ray[rllib]) (5.26.1)\n",
      "Requirement already satisfied: pyyaml in c:\\users\\fitz\\appdata\\local\\programs\\python\\python310\\lib\\site-packages (from ray[rllib]) (6.0.1)\n",
      "Requirement already satisfied: aiosignal in c:\\users\\fitz\\appdata\\roaming\\python\\python310\\site-packages (from ray[rllib]) (1.3.1)\n",
      "Requirement already satisfied: frozenlist in c:\\users\\fitz\\appdata\\roaming\\python\\python310\\site-packages (from ray[rllib]) (1.4.1)\n",
      "Requirement already satisfied: requests in c:\\users\\fitz\\appdata\\local\\programs\\python\\python310\\lib\\site-packages (from ray[rllib]) (2.31.0)\n",
      "Requirement already satisfied: pandas in c:\\users\\fitz\\appdata\\roaming\\python\\python310\\site-packages (from ray[rllib]) (2.2.2)\n",
      "Requirement already satisfied: tensorboardX>=1.9 in c:\\users\\fitz\\appdata\\roaming\\python\\python310\\site-packages (from ray[rllib]) (2.6.2.2)\n",
      "Requirement already satisfied: pyarrow>=6.0.1 in c:\\users\\fitz\\appdata\\roaming\\python\\python310\\site-packages (from ray[rllib]) (15.0.2)\n",
      "Requirement already satisfied: fsspec in c:\\users\\fitz\\appdata\\local\\programs\\python\\python310\\lib\\site-packages (from ray[rllib]) (2023.4.0)\n",
      "Requirement already satisfied: dm-tree in c:\\users\\fitz\\appdata\\roaming\\python\\python310\\site-packages (from ray[rllib]) (0.1.8)\n",
      "Requirement already satisfied: gymnasium==0.28.1 in c:\\users\\fitz\\appdata\\roaming\\python\\python310\\site-packages (from ray[rllib]) (0.28.1)\n",
      "Requirement already satisfied: lz4 in c:\\users\\fitz\\appdata\\roaming\\python\\python310\\site-packages (from ray[rllib]) (4.3.3)\n",
      "Requirement already satisfied: scikit-image in c:\\users\\fitz\\appdata\\roaming\\python\\python310\\site-packages (from ray[rllib]) (0.23.1)\n",
      "Requirement already satisfied: scipy in c:\\users\\fitz\\appdata\\roaming\\python\\python310\\site-packages (from ray[rllib]) (1.13.0)\n",
      "Requirement already satisfied: typer in c:\\users\\fitz\\appdata\\roaming\\python\\python310\\site-packages (from ray[rllib]) (0.12.3)\n",
      "Requirement already satisfied: rich in c:\\users\\fitz\\appdata\\roaming\\python\\python310\\site-packages (from ray[rllib]) (13.7.1)\n",
      "Requirement already satisfied: numpy>=1.21.0 in c:\\users\\fitz\\appdata\\local\\programs\\python\\python310\\lib\\site-packages (from gymnasium==0.28.1->ray[rllib]) (1.26.3)\n",
      "Requirement already satisfied: jax-jumpy>=1.0.0 in c:\\users\\fitz\\appdata\\roaming\\python\\python310\\site-packages (from gymnasium==0.28.1->ray[rllib]) (1.0.0)\n",
      "Requirement already satisfied: cloudpickle>=1.2.0 in c:\\users\\fitz\\appdata\\roaming\\python\\python310\\site-packages (from gymnasium==0.28.1->ray[rllib]) (3.0.0)\n",
      "Requirement already satisfied: typing-extensions>=4.3.0 in c:\\users\\fitz\\appdata\\local\\programs\\python\\python310\\lib\\site-packages (from gymnasium==0.28.1->ray[rllib]) (4.8.0)\n",
      "Requirement already satisfied: farama-notifications>=0.0.1 in c:\\users\\fitz\\appdata\\roaming\\python\\python310\\site-packages (from gymnasium==0.28.1->ray[rllib]) (0.0.4)\n",
      "Requirement already satisfied: colorama in c:\\users\\fitz\\appdata\\local\\programs\\python\\python310\\lib\\site-packages (from click>=7.0->ray[rllib]) (0.4.6)\n",
      "Requirement already satisfied: attrs>=22.2.0 in c:\\users\\fitz\\appdata\\local\\programs\\python\\python310\\lib\\site-packages (from jsonschema->ray[rllib]) (23.2.0)\n",
      "Requirement already satisfied: jsonschema-specifications>=2023.03.6 in c:\\users\\fitz\\appdata\\local\\programs\\python\\python310\\lib\\site-packages (from jsonschema->ray[rllib]) (2023.12.1)\n",
      "Requirement already satisfied: referencing>=0.28.4 in c:\\users\\fitz\\appdata\\local\\programs\\python\\python310\\lib\\site-packages (from jsonschema->ray[rllib]) (0.34.0)\n",
      "Requirement already satisfied: rpds-py>=0.7.1 in c:\\users\\fitz\\appdata\\local\\programs\\python\\python310\\lib\\site-packages (from jsonschema->ray[rllib]) (0.18.0)\n",
      "Requirement already satisfied: python-dateutil>=2.8.2 in c:\\users\\fitz\\appdata\\local\\programs\\python\\python310\\lib\\site-packages (from pandas->ray[rllib]) (2.9.0.post0)\n",
      "Requirement already satisfied: pytz>=2020.1 in c:\\users\\fitz\\appdata\\roaming\\python\\python310\\site-packages (from pandas->ray[rllib]) (2024.1)\n",
      "Requirement already satisfied: tzdata>=2022.7 in c:\\users\\fitz\\appdata\\roaming\\python\\python310\\site-packages (from pandas->ray[rllib]) (2024.1)\n",
      "Requirement already satisfied: charset-normalizer<4,>=2 in c:\\users\\fitz\\appdata\\local\\programs\\python\\python310\\lib\\site-packages (from requests->ray[rllib]) (3.3.2)\n",
      "Requirement already satisfied: idna<4,>=2.5 in c:\\users\\fitz\\appdata\\local\\programs\\python\\python310\\lib\\site-packages (from requests->ray[rllib]) (3.7)\n",
      "Requirement already satisfied: urllib3<3,>=1.21.1 in c:\\users\\fitz\\appdata\\local\\programs\\python\\python310\\lib\\site-packages (from requests->ray[rllib]) (2.2.1)\n",
      "Requirement already satisfied: certifi>=2017.4.17 in c:\\users\\fitz\\appdata\\local\\programs\\python\\python310\\lib\\site-packages (from requests->ray[rllib]) (2024.2.2)\n",
      "Requirement already satisfied: markdown-it-py>=2.2.0 in c:\\users\\fitz\\appdata\\roaming\\python\\python310\\site-packages (from rich->ray[rllib]) (3.0.0)\n",
      "Requirement already satisfied: pygments<3.0.0,>=2.13.0 in c:\\users\\fitz\\appdata\\local\\programs\\python\\python310\\lib\\site-packages (from rich->ray[rllib]) (2.17.2)\n",
      "Requirement already satisfied: networkx>=2.8 in c:\\users\\fitz\\appdata\\local\\programs\\python\\python310\\lib\\site-packages (from scikit-image->ray[rllib]) (3.2.1)\n",
      "Requirement already satisfied: pillow>=9.1 in c:\\users\\fitz\\appdata\\local\\programs\\python\\python310\\lib\\site-packages (from scikit-image->ray[rllib]) (10.2.0)\n",
      "Requirement already satisfied: imageio>=2.33 in c:\\users\\fitz\\appdata\\roaming\\python\\python310\\site-packages (from scikit-image->ray[rllib]) (2.34.0)\n",
      "Requirement already satisfied: tifffile>=2022.8.12 in c:\\users\\fitz\\appdata\\roaming\\python\\python310\\site-packages (from scikit-image->ray[rllib]) (2024.4.18)\n",
      "Requirement already satisfied: lazy-loader>=0.4 in c:\\users\\fitz\\appdata\\roaming\\python\\python310\\site-packages (from scikit-image->ray[rllib]) (0.4)\n",
      "Requirement already satisfied: shellingham>=1.3.0 in c:\\users\\fitz\\appdata\\roaming\\python\\python310\\site-packages (from typer->ray[rllib]) (1.5.4)\n",
      "Requirement already satisfied: mdurl~=0.1 in c:\\users\\fitz\\appdata\\roaming\\python\\python310\\site-packages (from markdown-it-py>=2.2.0->rich->ray[rllib]) (0.1.2)\n",
      "Requirement already satisfied: six>=1.5 in c:\\users\\fitz\\appdata\\local\\programs\\python\\python310\\lib\\site-packages (from python-dateutil>=2.8.2->pandas->ray[rllib]) (1.16.0)\n"
     ]
    }
   ],
   "source": [
    "!pip install ray[rllib]"
   ]
  },
  {
   "cell_type": "code",
   "execution_count": 2,
   "metadata": {},
   "outputs": [
    {
     "name": "stdout",
     "output_type": "stream",
     "text": [
      "Requirement already satisfied: ipywidgets in c:\\users\\fitz\\appdata\\local\\programs\\python\\python310\\lib\\site-packages (8.1.2)\n",
      "Requirement already satisfied: gputil in c:\\users\\fitz\\appdata\\local\\programs\\python\\python310\\lib\\site-packages (1.4.0)\n",
      "Requirement already satisfied: comm>=0.1.3 in c:\\users\\fitz\\appdata\\local\\programs\\python\\python310\\lib\\site-packages (from ipywidgets) (0.2.2)\n",
      "Requirement already satisfied: ipython>=6.1.0 in c:\\users\\fitz\\appdata\\local\\programs\\python\\python310\\lib\\site-packages (from ipywidgets) (8.23.0)\n",
      "Requirement already satisfied: traitlets>=4.3.1 in c:\\users\\fitz\\appdata\\local\\programs\\python\\python310\\lib\\site-packages (from ipywidgets) (5.14.2)\n",
      "Requirement already satisfied: widgetsnbextension~=4.0.10 in c:\\users\\fitz\\appdata\\local\\programs\\python\\python310\\lib\\site-packages (from ipywidgets) (4.0.10)\n",
      "Requirement already satisfied: jupyterlab-widgets~=3.0.10 in c:\\users\\fitz\\appdata\\local\\programs\\python\\python310\\lib\\site-packages (from ipywidgets) (3.0.10)\n",
      "Requirement already satisfied: decorator in c:\\users\\fitz\\appdata\\local\\programs\\python\\python310\\lib\\site-packages (from ipython>=6.1.0->ipywidgets) (5.1.1)\n",
      "Requirement already satisfied: jedi>=0.16 in c:\\users\\fitz\\appdata\\local\\programs\\python\\python310\\lib\\site-packages (from ipython>=6.1.0->ipywidgets) (0.19.1)\n",
      "Requirement already satisfied: matplotlib-inline in c:\\users\\fitz\\appdata\\local\\programs\\python\\python310\\lib\\site-packages (from ipython>=6.1.0->ipywidgets) (0.1.7)\n",
      "Requirement already satisfied: prompt-toolkit<3.1.0,>=3.0.41 in c:\\users\\fitz\\appdata\\local\\programs\\python\\python310\\lib\\site-packages (from ipython>=6.1.0->ipywidgets) (3.0.43)\n",
      "Requirement already satisfied: pygments>=2.4.0 in c:\\users\\fitz\\appdata\\local\\programs\\python\\python310\\lib\\site-packages (from ipython>=6.1.0->ipywidgets) (2.17.2)\n",
      "Requirement already satisfied: stack-data in c:\\users\\fitz\\appdata\\local\\programs\\python\\python310\\lib\\site-packages (from ipython>=6.1.0->ipywidgets) (0.6.3)\n",
      "Requirement already satisfied: exceptiongroup in c:\\users\\fitz\\appdata\\local\\programs\\python\\python310\\lib\\site-packages (from ipython>=6.1.0->ipywidgets) (1.2.1)\n",
      "Requirement already satisfied: typing-extensions in c:\\users\\fitz\\appdata\\local\\programs\\python\\python310\\lib\\site-packages (from ipython>=6.1.0->ipywidgets) (4.8.0)\n",
      "Requirement already satisfied: colorama in c:\\users\\fitz\\appdata\\local\\programs\\python\\python310\\lib\\site-packages (from ipython>=6.1.0->ipywidgets) (0.4.6)\n",
      "Requirement already satisfied: parso<0.9.0,>=0.8.3 in c:\\users\\fitz\\appdata\\local\\programs\\python\\python310\\lib\\site-packages (from jedi>=0.16->ipython>=6.1.0->ipywidgets) (0.8.4)\n",
      "Requirement already satisfied: wcwidth in c:\\users\\fitz\\appdata\\local\\programs\\python\\python310\\lib\\site-packages (from prompt-toolkit<3.1.0,>=3.0.41->ipython>=6.1.0->ipywidgets) (0.2.13)\n",
      "Requirement already satisfied: executing>=1.2.0 in c:\\users\\fitz\\appdata\\local\\programs\\python\\python310\\lib\\site-packages (from stack-data->ipython>=6.1.0->ipywidgets) (2.0.1)\n",
      "Requirement already satisfied: asttokens>=2.1.0 in c:\\users\\fitz\\appdata\\local\\programs\\python\\python310\\lib\\site-packages (from stack-data->ipython>=6.1.0->ipywidgets) (2.4.1)\n",
      "Requirement already satisfied: pure-eval in c:\\users\\fitz\\appdata\\local\\programs\\python\\python310\\lib\\site-packages (from stack-data->ipython>=6.1.0->ipywidgets) (0.2.2)\n",
      "Requirement already satisfied: six>=1.12.0 in c:\\users\\fitz\\appdata\\local\\programs\\python\\python310\\lib\\site-packages (from asttokens>=2.1.0->stack-data->ipython>=6.1.0->ipywidgets) (1.16.0)\n"
     ]
    }
   ],
   "source": [
    "!pip install ipywidgets gputil"
   ]
  },
  {
   "cell_type": "code",
   "execution_count": 3,
   "metadata": {
    "colab": {
     "base_uri": "https://localhost:8080/"
    },
    "id": "qqYp8ZJiwDQK",
    "outputId": "bb24f137-a170-40ab-9f39-3ca133fcc4c5"
   },
   "outputs": [],
   "source": [
    "import random\n",
    "import gymnasium as gym\n",
    "from gymnasium import spaces, vector\n",
    "import numpy as np\n",
    "from ray import tune\n",
    "from collections import Counter\n",
    "from scipy.stats import binom, nbinom, beta, poisson, gamma, norm, geom\n",
    "from ray.rllib.env import MultiAgentEnv"
   ]
  },
  {
   "cell_type": "markdown",
   "metadata": {
    "id": "H6XBRVIMz2ko"
   },
   "source": [
    "## 1) Write up the environment and test that it is working.\n",
    "\n"
   ]
  },
  {
   "cell_type": "code",
   "execution_count": 4,
   "metadata": {
    "colab": {
     "base_uri": "https://localhost:8080/"
    },
    "id": "w6YYWzS69_UA",
    "outputId": "87db4ec1-e745-42d3-ec26-c3f805cc5f78"
   },
   "outputs": [],
   "source": [
    "# Define global variables\n",
    "deck = ['2', '3', '4', '5', '6', '7', '8', '9', '10', 'Jack', 'Queen', 'King', 'Ace'] * 4\n",
    "\n",
    "def initialize_deck():\n",
    "    suits = ['Clubs', 'Diamonds', 'Hearts', 'Spades']\n",
    "    ranks = ['Ace','2', '3', '4', '5', '6', '7', '8', '9', '10', 'Jack', 'Queen', 'King']\n",
    "    deck = [(rank, suit) for suit in suits for rank in ranks]\n",
    "    random.shuffle(deck)\n",
    "    return deck\n",
    "\n",
    "def partition_selected_unselected(data_list, indicator_list, max_select=None):\n",
    "    if not max_select:\n",
    "      max_select = len(data_list)\n",
    "    unselected_list = []\n",
    "    selected_list = []\n",
    "\n",
    "    # Iterate over both lists simultaneously\n",
    "    for data, indicator in zip(data_list, indicator_list):\n",
    "        if indicator == 1 and len(selected_list) < max_select:\n",
    "            selected_list.append(data)\n",
    "        else:\n",
    "            unselected_list.append(data)\n",
    "\n",
    "    return unselected_list, selected_list\n",
    "\n",
    "def create_card_matrix(cards):\n",
    "    # Ranks and suits mapping to index\n",
    "    ranks = {'Ace': 0, '2': 1, '3': 2, '4': 3, '5': 4, '6': 5, '7': 6,\n",
    "             '8': 7, '9': 8, '10': 9, 'Jack': 10, 'Queen': 11, 'King': 12}\n",
    "    suits = {'Clubs': 0, 'Diamonds': 1, 'Hearts': 2, 'Spades': 3}\n",
    "\n",
    "    # Initialize the matrix with zeros\n",
    "    matrix = [[0]*4 for _ in range(13)]\n",
    "\n",
    "    # Fill the matrix based on cards input\n",
    "    for rank, suit in cards:\n",
    "        if rank in ranks and suit in suits:\n",
    "            matrix[ranks[rank]][suits[suit]] = 1\n",
    "\n",
    "    return matrix\n",
    "\n",
    "def deal_hand(deck, hand_size):\n",
    "    return [deck.pop() for _ in range(hand_size)]\n",
    "\n",
    "def state_function(player_hand, deck):\n",
    "    return {\n",
    "        'player_hand': create_card_matrix(player_hand),\n",
    "        'cards_left_in_deck': create_card_matrix(deck)\n",
    "    }\n",
    "\n",
    "\n",
    "# Define the rewards for each hand\n",
    "rewards = {\n",
    "    \"Royal Flush\": 800,\n",
    "    \"Straight Flush\": 800,\n",
    "    \"Four of a Kind\": 420,\n",
    "    \"Full House\": 160,\n",
    "    \"Flush\": 140,\n",
    "    \"Straight\": 120,\n",
    "    \"Three of a Kind\": 90,\n",
    "    \"Two Pair\": 40,\n",
    "    \"Pair\": 20,\n",
    "    \"High Card\": 5\n",
    "}"
   ]
  },
  {
   "cell_type": "code",
   "execution_count": 5,
   "metadata": {
    "id": "aKNwuyim9_eI"
   },
   "outputs": [],
   "source": [
    "import gymnasium as gym\n",
    "from collections import Counter\n",
    "\n",
    "class CardGameEnv(gym.Env):\n",
    "    def __init__(self, seed=None):\n",
    "        self.hand_size = 8\n",
    "        self.MAX_PLAYS = 4  # Limit the number of plays to 4\n",
    "        self.MAX_DISCARDS = 3  # Limit the number of discards to 3\n",
    "\n",
    "        self.action_space = gym.spaces.MultiDiscrete([2]*(1+self.hand_size))\n",
    "        self.observation_space = gym.spaces.Dict({\n",
    "            'player_hand': gym.spaces.MultiBinary([13, 4]),\n",
    "            'cards_left_in_deck': gym.spaces.MultiBinary([13, 4])\n",
    "        })\n",
    "\n",
    "        self.num_discards = 0\n",
    "        self.num_plays = 0\n",
    "        self.deck = initialize_deck()\n",
    "        self.player_hand = deal_hand(self.deck, self.hand_size)\n",
    "        self.player_hand.sort()\n",
    "        self.state = state_function(self.player_hand, self.deck)\n",
    "\n",
    "    #added by Ron\n",
    "    def save_checkpoint(self, tmp_checkpoint_dir):\n",
    "        checkpoint_path = os.path.join(tmp_checkpoint_dir, \"multiturn_model.pth\")\n",
    "        torch.save(self.model.state_dict(), checkpoint_path)\n",
    "        return tmp_checkpoint_dir\n",
    "\n",
    "    def load_checkpoint(self, tmp_checkpoint_dir):\n",
    "        checkpoint_path = os.path.join(tmp_checkpoint_dir, \"multiturn_model.pth\")\n",
    "        self.model.load_state_dict(torch.load(checkpoint_path))\n",
    "\n",
    "\n",
    "    def reset(self, seed=None, options=None):\n",
    "        self.num_discards = 0\n",
    "        self.num_plays = 0\n",
    "        self.deck = initialize_deck()\n",
    "        self.player_hand = deal_hand(self.deck, self.hand_size)\n",
    "        self.player_hand.sort()\n",
    "        self.state = state_function(self.player_hand, self.deck)\n",
    "        return self.state, {}\n",
    "\n",
    "    def step(self, action):\n",
    "        dec = action[0]\n",
    "        if self.num_discards >= self.MAX_DISCARDS:\n",
    "          dec = 1\n",
    "        if self.num_plays >= self.MAX_PLAYS:\n",
    "          dec = 0\n",
    "\n",
    "        selection = action[1:]\n",
    "        remaining_hand, selected_hand = partition_selected_unselected(self.player_hand, selection, max_select=5)\n",
    "\n",
    "        if dec == 1:  # Play\n",
    "            self.num_plays += 1\n",
    "            hand_rank_counts = Counter([rank for rank, _ in selected_hand])\n",
    "            hand_suit_counts = Counter([suit for _, suit in selected_hand])\n",
    "\n",
    "\n",
    "            # Define the mapping of card ranks to their order\n",
    "            card_order = {'Ace': 0, '2': 1, '3': 2, '4': 3, '5': 4, '6': 5, '7': 6, '8': 7, '9': 8, '10': 9, 'Jack': 10, 'Queen': 11, 'King': 12}\n",
    "\n",
    "            # Check for different hand categories\n",
    "            if len(hand_rank_counts) == 5 and len(hand_suit_counts) == 1 and all(rank in ['10', 'Jack', 'Queen', 'King', 'Ace'] for rank, _ in selected_hand):\n",
    "                hand_category = \"Royal Flush\"\n",
    "            elif len(hand_rank_counts) == 5 and len(hand_suit_counts) == 1 and all(rank in card_order.keys() for rank, _ in selected_hand) and sorted(selected_hand, key=lambda x: card_order[x[0]]) in (['Ace','2', '3', '4', '5'], ['2', '3', '4', '5', '6'], ['3', '4', '5', '6', '7'], ['4', '5', '6', '7', '8'], ['5', '6', '7', '8', '9'], ['6', '7', '8', '9', '10'], ['7', '8', '9', '10', 'Jack'], ['8', '9', '10', 'Jack', 'Queen'], ['9', '10', 'Jack', 'Queen', 'King']):\n",
    "                hand_category = \"Straight Flush\"\n",
    "            elif any(count == 4 for count in hand_rank_counts.values()):\n",
    "                hand_category = \"Four of a Kind\"\n",
    "            elif any(count == 3 for count in hand_rank_counts.values()) and any(count == 2 for count in hand_rank_counts.values()):\n",
    "                hand_category = \"Full House\"\n",
    "            elif len(hand_suit_counts) == 1 and len(selected_hand) == 5:\n",
    "                hand_category = \"Flush\"\n",
    "            elif len(hand_rank_counts) == 5 and all(rank in card_order.keys() for rank, _ in selected_hand) and sorted(selected_hand, key=lambda x: card_order[x[0]]) in (['Ace','2', '3', '4', '5'], ['2', '3', '4', '5', '6'], ['3', '4', '5', '6', '7'], ['4', '5', '6', '7', '8'], ['5', '6', '7', '8', '9'], ['6', '7', '8', '9', '10'], ['7', '8', '9', '10', 'Jack'], ['8', '9', '10', 'Jack', 'Queen'], ['9', '10', 'Jack', 'Queen', 'King']):\n",
    "                hand_category = \"Straight\"\n",
    "            elif any(count == 3 for count in hand_rank_counts.values()):\n",
    "                hand_category = \"Three of a Kind\"\n",
    "            elif sum(count == 2 for count in hand_rank_counts.values()) == 2:\n",
    "                hand_category = \"Two Pair\"\n",
    "            elif any(count == 2 for count in hand_rank_counts.values()):\n",
    "                hand_category = \"Pair\"\n",
    "            else:\n",
    "                hand_category = \"High Card\"\n",
    "\n",
    "            reward = rewards.get(hand_category, 0)  # Reward based on hand category\n",
    "\n",
    "        elif dec == 0:  # Discard\n",
    "            self.num_discards += 1\n",
    "            reward = 0  # Discarding has no reward\n",
    "\n",
    "        self.player_hand = remaining_hand + deal_hand(self.deck, len(selected_hand))\n",
    "        self.player_hand.sort()\n",
    "        self.state = state_function(self.player_hand, self.deck)\n",
    "\n",
    "        done = self.num_plays == self.MAX_PLAYS or len(self.deck) == 0\n",
    "\n",
    "        #print(f\"Player's Hand: {', '.join([f'{rank} of {suit}' for rank, suit in self.player_hand])}\")\n",
    "        #print(f\"Action: {action}, Reward: {reward}, Done: {done}\")\n",
    "\n",
    "        return self.state, reward, done, False, {}"
   ]
  },
  {
   "cell_type": "code",
   "execution_count": 6,
   "metadata": {
    "colab": {
     "base_uri": "https://localhost:8080/"
    },
    "id": "OWIbaoU6gUEq",
    "outputId": "ec2c686f-642b-4fe6-e700-88de540b3fed"
   },
   "outputs": [
    {
     "name": "stdout",
     "output_type": "stream",
     "text": [
      "[0 0 1 0 0 1 1 1 0]\n",
      "[('10', 'Hearts'), ('2', 'Spades'), ('3', 'Diamonds'), ('3', 'Spades'), ('7', 'Spades'), ('Ace', 'Spades'), ('King', 'Clubs'), ('King', 'Spades')]\n",
      "[('10', 'Hearts'), ('3', 'Diamonds'), ('3', 'Spades'), ('9', 'Clubs'), ('9', 'Spades'), ('Jack', 'Diamonds'), ('King', 'Spades'), ('Queen', 'Hearts')]\n"
     ]
    }
   ],
   "source": [
    "# Create an instance of the CardGameEnv class\n",
    "env = CardGameEnv()\n",
    "env.reset()\n",
    "\n",
    "#Nice way to test Action Space before running RLLib\n",
    "action = env.action_space.sample()\n",
    "print(action)\n",
    "print(env.player_hand)\n",
    "state, _, _, _, _ = env.step(action)\n",
    "len(state['cards_left_in_deck'])\n",
    "print(env.player_hand)"
   ]
  },
  {
   "cell_type": "code",
   "execution_count": 7,
   "metadata": {
    "colab": {
     "base_uri": "https://localhost:8080/"
    },
    "id": "UyK0t33VkoLD",
    "outputId": "11c6a40d-356d-4c16-daba-f35667e8d3fe"
   },
   "outputs": [
    {
     "data": {
      "text/plain": [
       "True"
      ]
     },
     "execution_count": 7,
     "metadata": {},
     "output_type": "execute_result"
    }
   ],
   "source": [
    "# Create an instance of the CardGameEnv class\n",
    "env = CardGameEnv()\n",
    "env.reset()\n",
    "\n",
    "env.observation_space.sample()\n",
    "\n",
    "# Testing if our observation space matches is being returned by our step function\n",
    "env.observation_space.contains(state)"
   ]
  },
  {
   "cell_type": "code",
   "execution_count": 8,
   "metadata": {
    "colab": {
     "base_uri": "https://localhost:8080/"
    },
    "id": "G7etFiOEsv1R",
    "outputId": "0f92fda5-cb36-44fa-839e-bf9dda6be666"
   },
   "outputs": [
    {
     "data": {
      "text/plain": [
       "True"
      ]
     },
     "execution_count": 8,
     "metadata": {},
     "output_type": "execute_result"
    }
   ],
   "source": [
    "state, _ = env.reset()\n",
    "env.observation_space.contains(state)"
   ]
  },
  {
   "cell_type": "code",
   "execution_count": 9,
   "metadata": {
    "colab": {
     "base_uri": "https://localhost:8080/"
    },
    "id": "pdPuJYrg9_p5",
    "outputId": "4a210e41-5168-48a7-a92d-a10b06126b3b"
   },
   "outputs": [
    {
     "name": "stdout",
     "output_type": "stream",
     "text": [
      "Player's Hand:\n",
      "10 of Clubs\n",
      "2 of Hearts\n",
      "3 of Diamonds\n",
      "4 of Spades\n",
      "6 of Hearts\n",
      "9 of Diamonds\n",
      "Ace of Clubs\n",
      "King of Hearts\n",
      "Decision made by the player: [1 1 1 1 0 0 0 0 1]\n",
      "Total Reward after this turn: 5\n",
      "Player's Hand:\n",
      "4 of Spades\n",
      "6 of Diamonds\n",
      "6 of Hearts\n",
      "7 of Hearts\n",
      "8 of Clubs\n",
      "9 of Diamonds\n",
      "Ace of Clubs\n",
      "King of Clubs\n",
      "Decision made by the player: [0 0 0 0 0 1 1 0 0]\n",
      "Total Reward after this turn: 5\n",
      "Player's Hand:\n",
      "4 of Hearts\n",
      "4 of Spades\n",
      "6 of Diamonds\n",
      "6 of Hearts\n",
      "7 of Hearts\n",
      "7 of Spades\n",
      "Ace of Clubs\n",
      "King of Clubs\n",
      "Decision made by the player: [1 1 0 0 1 1 0 0 1]\n",
      "Total Reward after this turn: 10\n",
      "Player's Hand:\n",
      "10 of Diamonds\n",
      "3 of Spades\n",
      "4 of Diamonds\n",
      "4 of Spades\n",
      "6 of Diamonds\n",
      "7 of Spades\n",
      "Ace of Clubs\n",
      "Queen of Spades\n",
      "Decision made by the player: [0 0 0 1 1 0 0 0 0]\n",
      "Total Reward after this turn: 10\n",
      "Player's Hand:\n",
      "10 of Diamonds\n",
      "3 of Spades\n",
      "6 of Diamonds\n",
      "7 of Spades\n",
      "Ace of Clubs\n",
      "Jack of Diamonds\n",
      "Queen of Clubs\n",
      "Queen of Spades\n",
      "Decision made by the player: [0 0 0 1 1 0 1 1 1]\n",
      "Total Reward after this turn: 10\n",
      "Player's Hand:\n",
      "10 of Diamonds\n",
      "3 of Spades\n",
      "4 of Clubs\n",
      "5 of Diamonds\n",
      "6 of Spades\n",
      "Ace of Clubs\n",
      "Ace of Diamonds\n",
      "Jack of Clubs\n",
      "Decision made by the player: [1 1 0 0 0 1 0 0 1]\n",
      "Total Reward after this turn: 15\n",
      "Player's Hand:\n",
      "2 of Diamonds\n",
      "3 of Spades\n",
      "4 of Clubs\n",
      "5 of Clubs\n",
      "5 of Diamonds\n",
      "9 of Hearts\n",
      "Ace of Clubs\n",
      "Ace of Diamonds\n",
      "Decision made by the player: [1 1 0 1 1 0 0 0 1]\n",
      "Total Reward after this turn: 20\n",
      "Game over\n"
     ]
    }
   ],
   "source": [
    "# Create an instance of the CardGameEnv class\n",
    "env = CardGameEnv()\n",
    "env.reset()\n",
    "\n",
    "total_reward = 0  # Initialize total reward\n",
    "\n",
    "# Game loop\n",
    "while True:\n",
    "    print(\"Player's Hand:\")\n",
    "    for rank, suit in env.player_hand:\n",
    "        print(f\"{rank} of {suit}\")\n",
    "\n",
    "    action = env.action_space.sample()\n",
    "\n",
    "    state, reward, done, _, _ = env.step(action) # Ignoring False, {}\n",
    "\n",
    "    total_reward += reward  # Accumulate the reward obtained in each step\n",
    "\n",
    "    print(f\"Decision made by the player: {action}\")\n",
    "    print(f\"Total Reward after this turn: {total_reward}\")\n",
    "\n",
    "    if done:\n",
    "        break\n",
    "\n",
    "print(\"Game over\")"
   ]
  },
  {
   "cell_type": "markdown",
   "metadata": {
    "id": "rknSNLC5P_M5"
   },
   "source": [
    "## 2) Use RLlib to get as high an expected score as possible with 4 Plays and 3 Discards."
   ]
  },
  {
   "cell_type": "code",
   "execution_count": 10,
   "metadata": {
    "id": "PYB9b0k1peGv"
   },
   "outputs": [],
   "source": [
    "import ray\n",
    "from ray import tune, air, train\n",
    "from ray.rllib.algorithms.ppo import PPOConfig\n",
    "from functools import partial"
   ]
  },
  {
   "cell_type": "code",
   "execution_count": null,
   "metadata": {},
   "outputs": [],
   "source": []
  },
  {
   "cell_type": "code",
   "execution_count": 11,
   "metadata": {
    "colab": {
     "base_uri": "https://localhost:8080/",
     "height": 108
    },
    "id": "2icCZQt6qG83",
    "outputId": "d91d3c84-abd0-42fe-f457-a42af9feef98"
   },
   "outputs": [
    {
     "name": "stderr",
     "output_type": "stream",
     "text": [
      "2024-04-22 18:57:36,748\tINFO worker.py:1752 -- Started a local Ray instance.\n"
     ]
    },
    {
     "data": {
      "application/vnd.jupyter.widget-view+json": {
       "model_id": "63ba4e7aed5b47948b8c2bcbc19fdf18",
       "version_major": 2,
       "version_minor": 0
      },
      "text/html": [
       "<div class=\"lm-Widget p-Widget lm-Panel p-Panel jp-Cell-outputWrapper\">\n",
       "    <div style=\"margin-left: 50px;display: flex;flex-direction: row;align-items: center\">\n",
       "        <div class=\"jp-RenderedHTMLCommon\" style=\"display: flex; flex-direction: row;\">\n",
       "  <svg viewBox=\"0 0 567 224\" fill=\"none\" xmlns=\"http://www.w3.org/2000/svg\" style=\"height: 3em;\">\n",
       "    <g clip-path=\"url(#clip0_4338_178347)\">\n",
       "        <path d=\"M341.29 165.561H355.29L330.13 129.051C345.63 123.991 354.21 112.051 354.21 94.2307C354.21 71.3707 338.72 58.1807 311.88 58.1807H271V165.561H283.27V131.661H311.8C314.25 131.661 316.71 131.501 319.01 131.351L341.25 165.561H341.29ZM283.29 119.851V70.0007H311.82C331.3 70.0007 342.34 78.2907 342.34 94.5507C342.34 111.271 331.34 119.861 311.82 119.861L283.29 119.851ZM451.4 138.411L463.4 165.561H476.74L428.74 58.1807H416L367.83 165.561H380.83L392.83 138.411H451.4ZM446.19 126.601H398L422 72.1407L446.24 126.601H446.19ZM526.11 128.741L566.91 58.1807H554.35L519.99 114.181L485.17 58.1807H472.44L514.01 129.181V165.541H526.13V128.741H526.11Z\" fill=\"var(--jp-ui-font-color0)\"/>\n",
       "        <path d=\"M82.35 104.44C84.0187 97.8827 87.8248 92.0678 93.1671 87.9146C98.5094 83.7614 105.083 81.5067 111.85 81.5067C118.617 81.5067 125.191 83.7614 130.533 87.9146C135.875 92.0678 139.681 97.8827 141.35 104.44H163.75C164.476 101.562 165.622 98.8057 167.15 96.2605L127.45 56.5605C121.071 60.3522 113.526 61.6823 106.235 60.3005C98.9443 58.9187 92.4094 54.9203 87.8602 49.0574C83.3109 43.1946 81.0609 35.8714 81.5332 28.4656C82.0056 21.0599 85.1679 14.0819 90.4252 8.8446C95.6824 3.60726 102.672 0.471508 110.08 0.0272655C117.487 -0.416977 124.802 1.86091 130.647 6.4324C136.493 11.0039 140.467 17.5539 141.821 24.8501C143.175 32.1463 141.816 39.6859 138 46.0505L177.69 85.7505C182.31 82.9877 187.58 81.4995 192.962 81.4375C198.345 81.3755 203.648 82.742 208.33 85.3976C213.012 88.0532 216.907 91.9029 219.616 96.5544C222.326 101.206 223.753 106.492 223.753 111.875C223.753 117.258 222.326 122.545 219.616 127.197C216.907 131.848 213.012 135.698 208.33 138.353C203.648 141.009 198.345 142.375 192.962 142.313C187.58 142.251 182.31 140.763 177.69 138L138 177.7C141.808 184.071 143.155 191.614 141.79 198.91C140.424 206.205 136.44 212.75 130.585 217.313C124.731 221.875 117.412 224.141 110.004 223.683C102.596 223.226 95.6103 220.077 90.3621 214.828C85.1139 209.58 81.9647 202.595 81.5072 195.187C81.0497 187.779 83.3154 180.459 87.878 174.605C92.4405 168.751 98.9853 164.766 106.281 163.401C113.576 162.035 121.119 163.383 127.49 167.19L167.19 127.49C165.664 124.941 164.518 122.182 163.79 119.3H141.39C139.721 125.858 135.915 131.673 130.573 135.826C125.231 139.98 118.657 142.234 111.89 142.234C105.123 142.234 98.5494 139.98 93.2071 135.826C87.8648 131.673 84.0587 125.858 82.39 119.3H60C58.1878 126.495 53.8086 132.78 47.6863 136.971C41.5641 141.163 34.1211 142.972 26.7579 142.059C19.3947 141.146 12.6191 137.574 7.70605 132.014C2.79302 126.454 0.0813599 119.29 0.0813599 111.87C0.0813599 104.451 2.79302 97.2871 7.70605 91.7272C12.6191 86.1673 19.3947 82.5947 26.7579 81.6817C34.1211 80.7686 41.5641 82.5781 47.6863 86.7696C53.8086 90.9611 58.1878 97.2456 60 104.44H82.35ZM100.86 204.32C103.407 206.868 106.759 208.453 110.345 208.806C113.93 209.159 117.527 208.258 120.522 206.256C123.517 204.254 125.725 201.276 126.771 197.828C127.816 194.38 127.633 190.677 126.253 187.349C124.874 184.021 122.383 181.274 119.205 179.577C116.027 177.88 112.359 177.337 108.826 178.042C105.293 178.746 102.113 180.654 99.8291 183.44C97.5451 186.226 96.2979 189.718 96.3 193.32C96.2985 195.364 96.7006 197.388 97.4831 199.275C98.2656 201.163 99.4132 202.877 100.86 204.32ZM204.32 122.88C206.868 120.333 208.453 116.981 208.806 113.396C209.159 109.811 208.258 106.214 206.256 103.219C204.254 100.223 201.275 98.0151 197.827 96.97C194.38 95.9249 190.676 96.1077 187.348 97.4873C184.02 98.8669 181.274 101.358 179.577 104.536C177.879 107.714 177.337 111.382 178.041 114.915C178.746 118.448 180.653 121.627 183.439 123.911C186.226 126.195 189.717 127.443 193.32 127.44C195.364 127.443 197.388 127.042 199.275 126.259C201.163 125.476 202.878 124.328 204.32 122.88ZM122.88 19.4205C120.333 16.8729 116.981 15.2876 113.395 14.9347C109.81 14.5817 106.213 15.483 103.218 17.4849C100.223 19.4868 98.0146 22.4654 96.9696 25.9131C95.9245 29.3608 96.1073 33.0642 97.4869 36.3922C98.8665 39.7202 101.358 42.4668 104.535 44.1639C107.713 45.861 111.381 46.4036 114.914 45.6992C118.447 44.9949 121.627 43.0871 123.911 40.301C126.195 37.515 127.442 34.0231 127.44 30.4205C127.44 28.3772 127.038 26.3539 126.255 24.4664C125.473 22.5788 124.326 20.8642 122.88 19.4205ZM19.42 100.86C16.8725 103.408 15.2872 106.76 14.9342 110.345C14.5813 113.93 15.4826 117.527 17.4844 120.522C19.4863 123.518 22.4649 125.726 25.9127 126.771C29.3604 127.816 33.0638 127.633 36.3918 126.254C39.7198 124.874 42.4664 122.383 44.1635 119.205C45.8606 116.027 46.4032 112.359 45.6988 108.826C44.9944 105.293 43.0866 102.114 40.3006 99.8296C37.5145 97.5455 34.0227 96.2983 30.42 96.3005C26.2938 96.3018 22.337 97.9421 19.42 100.86ZM100.86 100.86C98.3125 103.408 96.7272 106.76 96.3742 110.345C96.0213 113.93 96.9226 117.527 98.9244 120.522C100.926 123.518 103.905 125.726 107.353 126.771C110.8 127.816 114.504 127.633 117.832 126.254C121.16 124.874 123.906 122.383 125.604 119.205C127.301 116.027 127.843 112.359 127.139 108.826C126.434 105.293 124.527 102.114 121.741 99.8296C118.955 97.5455 115.463 96.2983 111.86 96.3005C109.817 96.299 107.793 96.701 105.905 97.4835C104.018 98.2661 102.303 99.4136 100.86 100.86Z\" fill=\"#00AEEF\"/>\n",
       "    </g>\n",
       "    <defs>\n",
       "        <clipPath id=\"clip0_4338_178347\">\n",
       "            <rect width=\"566.93\" height=\"223.75\" fill=\"white\"/>\n",
       "        </clipPath>\n",
       "    </defs>\n",
       "  </svg>\n",
       "</div>\n",
       "\n",
       "        <table class=\"jp-RenderedHTMLCommon\" style=\"border-collapse: collapse;color: var(--jp-ui-font-color1);font-size: var(--jp-ui-font-size1);\">\n",
       "    <tr>\n",
       "        <td style=\"text-align: left\"><b>Python version:</b></td>\n",
       "        <td style=\"text-align: left\"><b>3.10.11</b></td>\n",
       "    </tr>\n",
       "    <tr>\n",
       "        <td style=\"text-align: left\"><b>Ray version:</b></td>\n",
       "        <td style=\"text-align: left\"><b>2.10.0</b></td>\n",
       "    </tr>\n",
       "    \n",
       "</table>\n",
       "\n",
       "    </div>\n",
       "</div>\n"
      ],
      "text/plain": [
       "RayContext(dashboard_url='', python_version='3.10.11', ray_version='2.10.0', ray_commit='09abba26b5bf2707639bb637c208d062a47b46f6')"
      ]
     },
     "execution_count": 11,
     "metadata": {},
     "output_type": "execute_result"
    },
    {
     "name": "stderr",
     "output_type": "stream",
     "text": [
      "\u001b[36m(RolloutWorker pid=26280)\u001b[0m 2024-04-22 18:57:56,711\tWARNING env.py:162 -- Your env doesn't have a .spec.max_episode_steps attribute. Your horizon will default to infinity, and your environment will not be reset.\n",
      "\u001b[36m(PPO pid=14588)\u001b[0m Trainable.setup took 15.198 seconds. If your trainable is slow to initialize, consider setting reuse_actors=True to reduce actor creation overheads.\n",
      "\u001b[36m(PPO pid=14588)\u001b[0m 2024-04-22 18:58:00,280\tWARNING deprecation.py:50 -- DeprecationWarning: `ray.rllib.execution.train_ops.multi_gpu_train_one_step` has been deprecated. This will raise an error in the future!\n"
     ]
    }
   ],
   "source": [
    "if ray.is_initialized():\n",
    "  ray.shutdown()\n",
    "ray.init(num_cpus=20)"
   ]
  },
  {
   "cell_type": "code",
   "execution_count": null,
   "metadata": {},
   "outputs": [],
   "source": []
  },
  {
   "cell_type": "code",
   "execution_count": null,
   "metadata": {
    "colab": {
     "base_uri": "https://localhost:8080/"
    },
    "id": "IlpLWO9tqHJ4",
    "outputId": "60b633e2-8eac-4e89-b3bd-5d93172ec211"
   },
   "outputs": [
    {
     "data": {
      "text/html": [
       "<div class=\"tuneStatus\">\n",
       "  <div style=\"display: flex;flex-direction: row\">\n",
       "    <div style=\"display: flex;flex-direction: column;\">\n",
       "      <h3>Tune Status</h3>\n",
       "      <table>\n",
       "<tbody>\n",
       "<tr><td>Current time:</td><td>2024-04-22 19:03:08</td></tr>\n",
       "<tr><td>Running for: </td><td>00:05:29.62        </td></tr>\n",
       "<tr><td>Memory:      </td><td>20.8/127.9 GiB     </td></tr>\n",
       "</tbody>\n",
       "</table>\n",
       "    </div>\n",
       "    <div class=\"vDivider\"></div>\n",
       "    <div class=\"systemInfo\">\n",
       "      <h3>System Info</h3>\n",
       "      Using FIFO scheduling algorithm.<br>Logical resource usage: 20.0/20 CPUs, 0/1 GPUs (0.0/1.0 accelerator_type:G)\n",
       "    </div>\n",
       "    \n",
       "  </div>\n",
       "  <div class=\"hDivider\"></div>\n",
       "  <div class=\"trialStatus\">\n",
       "    <h3>Trial Status</h3>\n",
       "    <table>\n",
       "<thead>\n",
       "<tr><th>Trial name                 </th><th>status  </th><th>loc            </th><th style=\"text-align: right;\">  iter</th><th style=\"text-align: right;\">  total time (s)</th><th style=\"text-align: right;\">    ts</th><th style=\"text-align: right;\">  reward</th><th style=\"text-align: right;\">  episode_reward_max</th><th style=\"text-align: right;\">  episode_reward_min</th><th style=\"text-align: right;\">  episode_len_mean</th></tr>\n",
       "</thead>\n",
       "<tbody>\n",
       "<tr><td>PPO_CardGameEnv_dd24e_00000</td><td>RUNNING </td><td>127.0.0.1:14588</td><td style=\"text-align: right;\">    27</td><td style=\"text-align: right;\">         307.185</td><td style=\"text-align: right;\">108000</td><td style=\"text-align: right;\"> 79.1069</td><td style=\"text-align: right;\">                 470</td><td style=\"text-align: right;\">                  20</td><td style=\"text-align: right;\">           6.37321</td></tr>\n",
       "</tbody>\n",
       "</table>\n",
       "  </div>\n",
       "</div>\n",
       "<style>\n",
       ".tuneStatus {\n",
       "  color: var(--jp-ui-font-color1);\n",
       "}\n",
       ".tuneStatus .systemInfo {\n",
       "  display: flex;\n",
       "  flex-direction: column;\n",
       "}\n",
       ".tuneStatus td {\n",
       "  white-space: nowrap;\n",
       "}\n",
       ".tuneStatus .trialStatus {\n",
       "  display: flex;\n",
       "  flex-direction: column;\n",
       "}\n",
       ".tuneStatus h3 {\n",
       "  font-weight: bold;\n",
       "}\n",
       ".tuneStatus .hDivider {\n",
       "  border-bottom-width: var(--jp-border-width);\n",
       "  border-bottom-color: var(--jp-border-color0);\n",
       "  border-bottom-style: solid;\n",
       "}\n",
       ".tuneStatus .vDivider {\n",
       "  border-left-width: var(--jp-border-width);\n",
       "  border-left-color: var(--jp-border-color0);\n",
       "  border-left-style: solid;\n",
       "  margin: 0.5em 1em 0.5em 1em;\n",
       "}\n",
       "</style>\n"
      ],
      "text/plain": [
       "<IPython.core.display.HTML object>"
      ]
     },
     "metadata": {},
     "output_type": "display_data"
    }
   ],
   "source": [
    "config = (PPOConfig()\n",
    "          .environment(CardGameEnv)\n",
    "          .framework('torch')\n",
    "          .training(gamma=1)\n",
    "          .rollouts(num_rollout_workers=19)\n",
    ")\n",
    "\n",
    "stop = {\"timesteps_total\": 2000000}\n",
    "\n",
    "tuner = tune.Tuner(\n",
    "    \"PPO\",\n",
    "    param_space=config.to_dict(),\n",
    "    run_config=air.RunConfig(stop=stop, checkpoint_config=train.CheckpointConfig(checkpoint_frequency=50)),\n",
    ")\n",
    "\n",
    "tuner.fit()"
   ]
  },
  {
   "cell_type": "markdown",
   "metadata": {
    "id": "SdlpGU8g05vu"
   },
   "source": [
    "## 3) Use RLlib to get as high an expected score as possible with 1 Play and 1 Discard."
   ]
  },
  {
   "cell_type": "code",
   "execution_count": null,
   "metadata": {
    "id": "V9GK9KrlQ8iI"
   },
   "outputs": [],
   "source": [
    "import gymnasium as gym\n",
    "from collections import Counter\n",
    "\n",
    "class CardGameEnv_One_play(gym.Env):\n",
    "    def __init__(self, seed=None):\n",
    "        self.hand_size = 8\n",
    "        self.MAX_PLAYS = 1  # Limit the number of plays to 1\n",
    "        self.MAX_DISCARDS = 1  # Limit the number of discards to 1\n",
    "\n",
    "        self.action_space = gym.spaces.MultiDiscrete([2]*(1+self.hand_size))\n",
    "        self.observation_space = gym.spaces.Dict({\n",
    "            'player_hand': gym.spaces.MultiBinary([13, 4]),\n",
    "            'cards_left_in_deck': gym.spaces.MultiBinary([13, 4])\n",
    "        })\n",
    "\n",
    "        self.num_discards = 0\n",
    "        self.num_plays = 0\n",
    "        self.deck = initialize_deck()\n",
    "        self.player_hand = deal_hand(self.deck, self.hand_size)\n",
    "        self.player_hand.sort()\n",
    "        self.state = state_function(self.player_hand, self.deck)\n",
    "\n",
    "\n",
    "    def reset(self, seed=None, options=None):\n",
    "        self.num_discards = 0\n",
    "        self.num_plays = 0\n",
    "        self.deck = initialize_deck()\n",
    "        self.player_hand = deal_hand(self.deck, self.hand_size)\n",
    "        self.player_hand.sort()\n",
    "        self.state = state_function(self.player_hand, self.deck)\n",
    "        return self.state, {}\n",
    "\n",
    "    #added by Ron\n",
    "    def save_checkpoint(self, tmp_checkpoint_dir):\n",
    "        checkpoint_path = os.path.join(tmp_checkpoint_dir, \"singleturn_model.pth\")\n",
    "        torch.save(self.model.state_dict(), checkpoint_path)\n",
    "        return tmp_checkpoint_dir\n",
    "\n",
    "    def load_checkpoint(self, tmp_checkpoint_dir):\n",
    "        checkpoint_path = os.path.join(tmp_checkpoint_dir, \"single_model.pth\")\n",
    "        self.model.load_state_dict(torch.load(checkpoint_path))\n",
    "\n",
    "    def step(self, action):\n",
    "        dec = action[0]\n",
    "        if self.num_discards >= self.MAX_DISCARDS:\n",
    "          dec = 1\n",
    "        if self.num_plays >= self.MAX_PLAYS:\n",
    "          dec = 0\n",
    "\n",
    "        selection = action[1:]\n",
    "        remaining_hand, selected_hand = partition_selected_unselected(self.player_hand, selection, max_select=5)\n",
    "\n",
    "        if dec == 1:  # Play\n",
    "            self.num_plays += 1\n",
    "            hand_rank_counts = Counter([rank for rank, _ in selected_hand])\n",
    "            hand_suit_counts = Counter([suit for _, suit in selected_hand])\n",
    "\n",
    "\n",
    "            # Define the mapping of card ranks to their order\n",
    "            card_order = {'Ace': 0, '2': 1, '3': 2, '4': 3, '5': 4, '6': 5, '7': 6, '8': 7, '9': 8, '10': 9, 'Jack': 10, 'Queen': 11, 'King': 12}\n",
    "\n",
    "            # Check for different hand categories\n",
    "            if len(hand_rank_counts) == 5 and len(hand_suit_counts) == 1 and all(rank in ['10', 'Jack', 'Queen', 'King', 'Ace'] for rank, _ in selected_hand):\n",
    "                hand_category = \"Royal Flush\"\n",
    "            elif len(hand_rank_counts) == 5 and len(hand_suit_counts) == 1 and all(rank in card_order.keys() for rank, _ in selected_hand) and sorted(selected_hand, key=lambda x: card_order[x[0]]) in (['Ace','2', '3', '4', '5'], ['2', '3', '4', '5', '6'], ['3', '4', '5', '6', '7'], ['4', '5', '6', '7', '8'], ['5', '6', '7', '8', '9'], ['6', '7', '8', '9', '10'], ['7', '8', '9', '10', 'Jack'], ['8', '9', '10', 'Jack', 'Queen'], ['9', '10', 'Jack', 'Queen', 'King']):\n",
    "                hand_category = \"Straight Flush\"\n",
    "            elif any(count == 4 for count in hand_rank_counts.values()):\n",
    "                hand_category = \"Four of a Kind\"\n",
    "            elif any(count == 3 for count in hand_rank_counts.values()) and any(count == 2 for count in hand_rank_counts.values()):\n",
    "                hand_category = \"Full House\"\n",
    "            elif len(hand_suit_counts) == 1 and len(selected_hand) == 5:\n",
    "                hand_category = \"Flush\"\n",
    "            elif len(hand_rank_counts) == 5 and all(rank in card_order.keys() for rank, _ in selected_hand) and sorted(selected_hand, key=lambda x: card_order[x[0]]) in (['Ace','2', '3', '4', '5'], ['2', '3', '4', '5', '6'], ['3', '4', '5', '6', '7'], ['4', '5', '6', '7', '8'], ['5', '6', '7', '8', '9'], ['6', '7', '8', '9', '10'], ['7', '8', '9', '10', 'Jack'], ['8', '9', '10', 'Jack', 'Queen'], ['9', '10', 'Jack', 'Queen', 'King']):\n",
    "                hand_category = \"Straight\"\n",
    "            elif any(count == 3 for count in hand_rank_counts.values()):\n",
    "                hand_category = \"Three of a Kind\"\n",
    "            elif sum(count == 2 for count in hand_rank_counts.values()) == 2:\n",
    "                hand_category = \"Two Pair\"\n",
    "            elif any(count == 2 for count in hand_rank_counts.values()):\n",
    "                hand_category = \"Pair\"\n",
    "            else:\n",
    "                hand_category = \"High Card\"\n",
    "\n",
    "            reward = rewards.get(hand_category, 0)  # Reward based on hand category\n",
    "\n",
    "        elif dec == 0:  # Discard\n",
    "            self.num_discards += 1\n",
    "            reward = 0  # Discarding has no reward\n",
    "\n",
    "        self.player_hand = remaining_hand + deal_hand(self.deck, len(selected_hand))\n",
    "        self.player_hand.sort()\n",
    "        self.state = state_function(self.player_hand, self.deck)\n",
    "\n",
    "        done = self.num_plays == self.MAX_PLAYS or len(self.deck) == 0\n",
    "\n",
    "        #print(f\"Player's Hand: {', '.join([f'{rank} of {suit}' for rank, suit in self.player_hand])}\")\n",
    "        #print(f\"Action: {action}, Reward: {reward}, Done: {done}\")\n",
    "\n",
    "        return self.state, reward, done, False, {}"
   ]
  },
  {
   "cell_type": "code",
   "execution_count": null,
   "metadata": {
    "colab": {
     "base_uri": "https://localhost:8080/"
    },
    "id": "qowAjF6TQ8rw",
    "outputId": "34a84b0f-bbca-4913-9a78-6b9f1a43bd08"
   },
   "outputs": [],
   "source": [
    "# Create an instance of the CardGameEnv class\n",
    "env = CardGameEnv_One_play()\n",
    "env.reset()\n",
    "\n",
    "#Nice way to test Action Space before running RLLib\n",
    "action = env.action_space.sample()\n",
    "print(action)\n",
    "print(env.player_hand)\n",
    "state, _, _, _, _ = env.step(action)\n",
    "len(state['cards_left_in_deck'])\n",
    "print(env.player_hand)"
   ]
  },
  {
   "cell_type": "code",
   "execution_count": null,
   "metadata": {
    "colab": {
     "base_uri": "https://localhost:8080/"
    },
    "id": "NkgfnZQcRe80",
    "outputId": "e1f69dc0-6102-4327-8213-12124c6c64d9"
   },
   "outputs": [],
   "source": [
    "# Create an instance of the CardGameEnv_One_play class\n",
    "env = CardGameEnv_One_play()\n",
    "env.reset()\n",
    "\n",
    "env.observation_space.sample()\n",
    "\n",
    "# Testing if our observation space matches is being returned by our step function\n",
    "env.observation_space.contains(state)"
   ]
  },
  {
   "cell_type": "code",
   "execution_count": null,
   "metadata": {
    "colab": {
     "base_uri": "https://localhost:8080/"
    },
    "id": "wiBuAGsuRe_r",
    "outputId": "a846f48a-50e7-45ad-c0a7-ef6cad40665b"
   },
   "outputs": [],
   "source": [
    "state, _ = env.reset()\n",
    "env.observation_space.contains(state)"
   ]
  },
  {
   "cell_type": "code",
   "execution_count": null,
   "metadata": {
    "colab": {
     "base_uri": "https://localhost:8080/"
    },
    "id": "5yg_ARjvRfF-",
    "outputId": "2c387b67-a731-490f-c537-c7b4ff70f37e"
   },
   "outputs": [],
   "source": [
    "# Create an instance of the CardGameEnv_One_play class\n",
    "env = CardGameEnv_One_play()\n",
    "env.reset()\n",
    "\n",
    "total_reward = 0  # Initialize total reward\n",
    "\n",
    "# Game loop\n",
    "while True:\n",
    "    print(\"Player's Hand:\")\n",
    "    for rank, suit in env.player_hand:\n",
    "        print(f\"{rank} of {suit}\")\n",
    "\n",
    "    action = env.action_space.sample()\n",
    "\n",
    "    state, reward, done, _, _ = env.step(action) # Ignoring False, {}\n",
    "\n",
    "    total_reward += reward  # Accumulate the reward obtained in each step\n",
    "\n",
    "    print(f\"Decision made by the player: {action}\")\n",
    "    print(f\"Total Reward after this turn: {total_reward}\")\n",
    "\n",
    "    if done:\n",
    "        break\n",
    "\n",
    "print(\"Game over\")"
   ]
  },
  {
   "cell_type": "code",
   "execution_count": null,
   "metadata": {
    "colab": {
     "base_uri": "https://localhost:8080/"
    },
    "id": "J1I3MO9QRfJD",
    "outputId": "02f71abf-8b9c-4aaf-c455-cca976e5b38c"
   },
   "outputs": [],
   "source": [
    "config = (PPOConfig()\n",
    "          .environment(CardGameEnv_One_play)\n",
    "          .framework('torch')\n",
    "          .training(gamma=1)\n",
    "          .rollouts(num_rollout_workers=19)\n",
    ")\n",
    "\n",
    "stop = {\"timesteps_total\": 1000000}\n",
    "\n",
    "tuner = tune.Tuner(\n",
    "    \"PPO\",\n",
    "    param_space=config.to_dict(),\n",
    "    run_config=air.RunConfig(stop=stop, checkpoint_config=train.CheckpointConfig(checkpoint_frequency=50)),\n",
    ")\n",
    "\n",
    "tuner.fit()"
   ]
  },
  {
   "cell_type": "markdown",
   "metadata": {
    "id": "V84GUpgAb9Q9"
   },
   "source": [
    "## Thank you!"
   ]
  },
  {
   "cell_type": "code",
   "execution_count": null,
   "metadata": {},
   "outputs": [],
   "source": []
  }
 ],
 "metadata": {
  "colab": {
   "provenance": []
  },
  "kernelspec": {
   "display_name": "Python 3 (ipykernel)",
   "language": "python",
   "name": "python3"
  },
  "language_info": {
   "codemirror_mode": {
    "name": "ipython",
    "version": 3
   },
   "file_extension": ".py",
   "mimetype": "text/x-python",
   "name": "python",
   "nbconvert_exporter": "python",
   "pygments_lexer": "ipython3",
   "version": "3.10.11"
  }
 },
 "nbformat": 4,
 "nbformat_minor": 4
}
