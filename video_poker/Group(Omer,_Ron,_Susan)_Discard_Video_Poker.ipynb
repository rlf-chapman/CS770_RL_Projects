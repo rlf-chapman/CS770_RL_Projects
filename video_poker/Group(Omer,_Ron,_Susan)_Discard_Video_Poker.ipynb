{
 "cells": [
  {
   "cell_type": "markdown",
   "metadata": {
    "id": "Q0IUFkp23p6C"
   },
   "source": [
    "## Video Poker using rllib and PPO"
   ]
  },
  {
   "cell_type": "code",
   "execution_count": null,
   "metadata": {
    "colab": {
     "base_uri": "https://localhost:8080/"
    },
    "id": "tyFsS5jAvyg1",
    "outputId": "ebe26030-1ac3-4ab8-b0fa-c2284a7bf606"
   },
   "outputs": [],
   "source": [
    "#!pip install ray[rllib]"
   ]
  },
  {
   "cell_type": "code",
   "execution_count": null,
   "metadata": {},
   "outputs": [],
   "source": [
    "#!pip install ipywidgets gputil"
   ]
  },
  {
   "cell_type": "code",
   "execution_count": null,
   "metadata": {
    "colab": {
     "base_uri": "https://localhost:8080/"
    },
    "id": "qqYp8ZJiwDQK",
    "outputId": "bb24f137-a170-40ab-9f39-3ca133fcc4c5"
   },
   "outputs": [],
   "source": [
    "import random\n",
    "import gymnasium as gym\n",
    "from gymnasium import spaces, vector\n",
    "import numpy as np\n",
    "from ray import tune\n",
    "from collections import Counter\n",
    "from scipy.stats import binom, nbinom, beta, poisson, gamma, norm, geom\n",
    "from ray.rllib.env import MultiAgentEnv"
   ]
  },
  {
   "cell_type": "markdown",
   "metadata": {
    "id": "H6XBRVIMz2ko"
   },
   "source": [
    "## 1) Write up the environment and test that it is working.\n",
    "\n"
   ]
  },
  {
   "cell_type": "code",
   "execution_count": null,
   "metadata": {
    "colab": {
     "base_uri": "https://localhost:8080/"
    },
    "id": "w6YYWzS69_UA",
    "outputId": "87db4ec1-e745-42d3-ec26-c3f805cc5f78"
   },
   "outputs": [],
   "source": [
    "# Define global variables\n",
    "deck = ['2', '3', '4', '5', '6', '7', '8', '9', '10', 'Jack', 'Queen', 'King', 'Ace'] * 4\n",
    "\n",
    "def initialize_deck():\n",
    "    suits = ['Clubs', 'Diamonds', 'Hearts', 'Spades']\n",
    "    ranks = ['Ace','2', '3', '4', '5', '6', '7', '8', '9', '10', 'Jack', 'Queen', 'King']\n",
    "    deck = [(rank, suit) for suit in suits for rank in ranks]\n",
    "    random.shuffle(deck)\n",
    "    return deck\n",
    "\n",
    "def partition_selected_unselected(data_list, indicator_list, max_select=None):\n",
    "    if not max_select:\n",
    "      max_select = len(data_list)\n",
    "    unselected_list = []\n",
    "    selected_list = []\n",
    "\n",
    "    # Iterate over both lists simultaneously\n",
    "    for data, indicator in zip(data_list, indicator_list):\n",
    "        if indicator == 1 and len(selected_list) < max_select:\n",
    "            selected_list.append(data)\n",
    "        else:\n",
    "            unselected_list.append(data)\n",
    "\n",
    "    return unselected_list, selected_list\n",
    "\n",
    "def create_card_matrix(cards):\n",
    "    # Ranks and suits mapping to index\n",
    "    ranks = {'Ace': 0, '2': 1, '3': 2, '4': 3, '5': 4, '6': 5, '7': 6,\n",
    "             '8': 7, '9': 8, '10': 9, 'Jack': 10, 'Queen': 11, 'King': 12}\n",
    "    suits = {'Clubs': 0, 'Diamonds': 1, 'Hearts': 2, 'Spades': 3}\n",
    "\n",
    "    # Initialize the matrix with zeros\n",
    "    matrix = [[0]*4 for _ in range(13)]\n",
    "\n",
    "    # Fill the matrix based on cards input\n",
    "    for rank, suit in cards:\n",
    "        if rank in ranks and suit in suits:\n",
    "            matrix[ranks[rank]][suits[suit]] = 1\n",
    "\n",
    "    return matrix\n",
    "\n",
    "def deal_hand(deck, hand_size):\n",
    "    return [deck.pop() for _ in range(hand_size)]\n",
    "\n",
    "def state_function(player_hand, deck):\n",
    "    return {\n",
    "        'player_hand': create_card_matrix(player_hand),\n",
    "        'cards_left_in_deck': create_card_matrix(deck)\n",
    "    }\n",
    "\n",
    "\n",
    "# Define the rewards for each hand\n",
    "rewards = {\n",
    "    \"Royal Flush\": 800,\n",
    "    \"Straight Flush\": 800,\n",
    "    \"Four of a Kind\": 420,\n",
    "    \"Full House\": 160,\n",
    "    \"Flush\": 140,\n",
    "    \"Straight\": 120,\n",
    "    \"Three of a Kind\": 90,\n",
    "    \"Two Pair\": 40,\n",
    "    \"Pair\": 20,\n",
    "    \"High Card\": 5\n",
    "}"
   ]
  },
  {
   "cell_type": "code",
   "execution_count": null,
   "metadata": {
    "id": "aKNwuyim9_eI"
   },
   "outputs": [],
   "source": [
    "import gymnasium as gym\n",
    "from collections import Counter\n",
    "\n",
    "class CardGameEnv(gym.Env):\n",
    "    def __init__(self, seed=None):\n",
    "        self.hand_size = 8\n",
    "        self.MAX_PLAYS = 4  # Limit the number of plays to 4\n",
    "        self.MAX_DISCARDS = 3  # Limit the number of discards to 3\n",
    "\n",
    "        self.action_space = gym.spaces.MultiDiscrete([2]*(1+self.hand_size))\n",
    "        self.observation_space = gym.spaces.Dict({\n",
    "            'player_hand': gym.spaces.MultiBinary([13, 4]),\n",
    "            'cards_left_in_deck': gym.spaces.MultiBinary([13, 4])\n",
    "        })\n",
    "\n",
    "        self.num_discards = 0\n",
    "        self.num_plays = 0\n",
    "        self.deck = initialize_deck()\n",
    "        self.player_hand = deal_hand(self.deck, self.hand_size)\n",
    "        self.player_hand.sort()\n",
    "        self.state = state_function(self.player_hand, self.deck)\n",
    "\n",
    "    #added by Ron\n",
    "    def save_checkpoint(self, tmp_checkpoint_dir):\n",
    "        checkpoint_path = os.path.join(tmp_checkpoint_dir, \"multiturn_model.pth\")\n",
    "        torch.save(self.model.state_dict(), checkpoint_path)\n",
    "        return tmp_checkpoint_dir\n",
    "\n",
    "    def load_checkpoint(self, tmp_checkpoint_dir):\n",
    "        checkpoint_path = os.path.join(tmp_checkpoint_dir, \"multiturn_model.pth\")\n",
    "        self.model.load_state_dict(torch.load(checkpoint_path))\n",
    "\n",
    "\n",
    "    def reset(self, seed=None, options=None):\n",
    "        self.num_discards = 0\n",
    "        self.num_plays = 0\n",
    "        self.deck = initialize_deck()\n",
    "        self.player_hand = deal_hand(self.deck, self.hand_size)\n",
    "        self.player_hand.sort()\n",
    "        self.state = state_function(self.player_hand, self.deck)\n",
    "        return self.state, {}\n",
    "\n",
    "    def step(self, action):\n",
    "        dec = action[0]\n",
    "        if self.num_discards >= self.MAX_DISCARDS:\n",
    "          dec = 1\n",
    "        if self.num_plays >= self.MAX_PLAYS:\n",
    "          dec = 0\n",
    "\n",
    "        selection = action[1:]\n",
    "        remaining_hand, selected_hand = partition_selected_unselected(self.player_hand, selection, max_select=5)\n",
    "\n",
    "        if dec == 1:  # Play\n",
    "            self.num_plays += 1\n",
    "            hand_rank_counts = Counter([rank for rank, _ in selected_hand])\n",
    "            hand_suit_counts = Counter([suit for _, suit in selected_hand])\n",
    "\n",
    "\n",
    "            # Define the mapping of card ranks to their order\n",
    "            card_order = {'Ace': 0, '2': 1, '3': 2, '4': 3, '5': 4, '6': 5, '7': 6, '8': 7, '9': 8, '10': 9, 'Jack': 10, 'Queen': 11, 'King': 12}\n",
    "\n",
    "            # Check for different hand categories\n",
    "            if len(hand_rank_counts) == 5 and len(hand_suit_counts) == 1 and all(rank in ['10', 'Jack', 'Queen', 'King', 'Ace'] for rank, _ in selected_hand):\n",
    "                hand_category = \"Royal Flush\"\n",
    "            elif len(hand_rank_counts) == 5 and len(hand_suit_counts) == 1 and all(rank in card_order.keys() for rank, _ in selected_hand) and sorted(selected_hand, key=lambda x: card_order[x[0]]) in (['Ace','2', '3', '4', '5'], ['2', '3', '4', '5', '6'], ['3', '4', '5', '6', '7'], ['4', '5', '6', '7', '8'], ['5', '6', '7', '8', '9'], ['6', '7', '8', '9', '10'], ['7', '8', '9', '10', 'Jack'], ['8', '9', '10', 'Jack', 'Queen'], ['9', '10', 'Jack', 'Queen', 'King']):\n",
    "                hand_category = \"Straight Flush\"\n",
    "            elif any(count == 4 for count in hand_rank_counts.values()):\n",
    "                hand_category = \"Four of a Kind\"\n",
    "            elif any(count == 3 for count in hand_rank_counts.values()) and any(count == 2 for count in hand_rank_counts.values()):\n",
    "                hand_category = \"Full House\"\n",
    "            elif len(hand_suit_counts) == 1 and len(selected_hand) == 5:\n",
    "                hand_category = \"Flush\"\n",
    "            elif len(hand_rank_counts) == 5 and all(rank in card_order.keys() for rank, _ in selected_hand) and sorted(selected_hand, key=lambda x: card_order[x[0]]) in (['Ace','2', '3', '4', '5'], ['2', '3', '4', '5', '6'], ['3', '4', '5', '6', '7'], ['4', '5', '6', '7', '8'], ['5', '6', '7', '8', '9'], ['6', '7', '8', '9', '10'], ['7', '8', '9', '10', 'Jack'], ['8', '9', '10', 'Jack', 'Queen'], ['9', '10', 'Jack', 'Queen', 'King']):\n",
    "                hand_category = \"Straight\"\n",
    "            elif any(count == 3 for count in hand_rank_counts.values()):\n",
    "                hand_category = \"Three of a Kind\"\n",
    "            elif sum(count == 2 for count in hand_rank_counts.values()) == 2:\n",
    "                hand_category = \"Two Pair\"\n",
    "            elif any(count == 2 for count in hand_rank_counts.values()):\n",
    "                hand_category = \"Pair\"\n",
    "            else:\n",
    "                hand_category = \"High Card\"\n",
    "\n",
    "            reward = rewards.get(hand_category, 0)  # Reward based on hand category\n",
    "\n",
    "        elif dec == 0:  # Discard\n",
    "            self.num_discards += 1\n",
    "            reward = 0  # Discarding has no reward\n",
    "\n",
    "        self.player_hand = remaining_hand + deal_hand(self.deck, len(selected_hand))\n",
    "        self.player_hand.sort()\n",
    "        self.state = state_function(self.player_hand, self.deck)\n",
    "\n",
    "        done = self.num_plays == self.MAX_PLAYS or len(self.deck) == 0\n",
    "\n",
    "        #print(f\"Player's Hand: {', '.join([f'{rank} of {suit}' for rank, suit in self.player_hand])}\")\n",
    "        #print(f\"Action: {action}, Reward: {reward}, Done: {done}\")\n",
    "\n",
    "        return self.state, reward, done, False, {}"
   ]
  },
  {
   "cell_type": "code",
   "execution_count": null,
   "metadata": {
    "colab": {
     "base_uri": "https://localhost:8080/"
    },
    "id": "OWIbaoU6gUEq",
    "outputId": "ec2c686f-642b-4fe6-e700-88de540b3fed"
   },
   "outputs": [],
   "source": [
    "# Create an instance of the CardGameEnv class\n",
    "env = CardGameEnv()\n",
    "env.reset()\n",
    "\n",
    "#Nice way to test Action Space before running RLLib\n",
    "action = env.action_space.sample()\n",
    "print(action)\n",
    "print(env.player_hand)\n",
    "state, _, _, _, _ = env.step(action)\n",
    "len(state['cards_left_in_deck'])\n",
    "print(env.player_hand)"
   ]
  },
  {
   "cell_type": "code",
   "execution_count": null,
   "metadata": {
    "colab": {
     "base_uri": "https://localhost:8080/"
    },
    "id": "UyK0t33VkoLD",
    "outputId": "11c6a40d-356d-4c16-daba-f35667e8d3fe"
   },
   "outputs": [],
   "source": [
    "# Create an instance of the CardGameEnv class\n",
    "env = CardGameEnv()\n",
    "env.reset()\n",
    "\n",
    "env.observation_space.sample()\n",
    "\n",
    "# Testing if our observation space matches is being returned by our step function\n",
    "env.observation_space.contains(state)"
   ]
  },
  {
   "cell_type": "code",
   "execution_count": null,
   "metadata": {
    "colab": {
     "base_uri": "https://localhost:8080/"
    },
    "id": "G7etFiOEsv1R",
    "outputId": "0f92fda5-cb36-44fa-839e-bf9dda6be666"
   },
   "outputs": [],
   "source": [
    "state, _ = env.reset()\n",
    "env.observation_space.contains(state)"
   ]
  },
  {
   "cell_type": "code",
   "execution_count": null,
   "metadata": {
    "colab": {
     "base_uri": "https://localhost:8080/"
    },
    "id": "pdPuJYrg9_p5",
    "outputId": "4a210e41-5168-48a7-a92d-a10b06126b3b"
   },
   "outputs": [],
   "source": [
    "# Create an instance of the CardGameEnv class\n",
    "env = CardGameEnv()\n",
    "env.reset()\n",
    "\n",
    "total_reward = 0  # Initialize total reward\n",
    "\n",
    "# Game loop\n",
    "while True:\n",
    "    print(\"Player's Hand:\")\n",
    "    for rank, suit in env.player_hand:\n",
    "        print(f\"{rank} of {suit}\")\n",
    "\n",
    "    action = env.action_space.sample()\n",
    "\n",
    "    state, reward, done, _, _ = env.step(action) # Ignoring False, {}\n",
    "\n",
    "    total_reward += reward  # Accumulate the reward obtained in each step\n",
    "\n",
    "    print(f\"Decision made by the player: {action}\")\n",
    "    print(f\"Total Reward after this turn: {total_reward}\")\n",
    "\n",
    "    if done:\n",
    "        break\n",
    "\n",
    "print(\"Game over\")"
   ]
  },
  {
   "cell_type": "markdown",
   "metadata": {
    "id": "rknSNLC5P_M5"
   },
   "source": [
    "## 2) Use RLlib to get as high an expected score as possible with 4 Plays and 3 Discards."
   ]
  },
  {
   "cell_type": "code",
   "execution_count": null,
   "metadata": {
    "id": "PYB9b0k1peGv"
   },
   "outputs": [],
   "source": [
    "import ray\n",
    "from ray import tune, air, train\n",
    "from ray.rllib.algorithms.ppo import PPOConfig\n",
    "from functools import partial"
   ]
  },
  {
   "cell_type": "code",
   "execution_count": null,
   "metadata": {
    "colab": {
     "base_uri": "https://localhost:8080/",
     "height": 108
    },
    "id": "2icCZQt6qG83",
    "outputId": "d91d3c84-abd0-42fe-f457-a42af9feef98"
   },
   "outputs": [],
   "source": [
    "if ray.is_initialized():\n",
    "  ray.shutdown()\n",
    "ray.init(num_cpus=20)"
   ]
  },
  {
   "cell_type": "code",
   "execution_count": null,
   "metadata": {
    "colab": {
     "base_uri": "https://localhost:8080/"
    },
    "id": "IlpLWO9tqHJ4",
    "outputId": "60b633e2-8eac-4e89-b3bd-5d93172ec211"
   },
   "outputs": [],
   "source": [
    "config = (PPOConfig()\n",
    "          .environment(CardGameEnv)\n",
    "          .framework('torch')\n",
    "          .training(gamma=1)\n",
    "          .rollouts(num_rollout_workers=19)\n",
    ")\n",
    "\n",
    "# Equivalent code added via .run call to use new checkpoint features, check next cell\n",
    "# \n",
    "#stop = {\"timesteps_total\": 2000000}\n",
    "#checkpoint_path = \"C:\\\\Users\\\\Fitz\\\\ray_results\\\\PPO_2024-04-22_19-11-08\\\\PPO_CardGameEnv_bf9f4_00000_0_2024-04-22_19-11-08\\\\checkpoint_000009\"\n",
    "#\n",
    "#tuner = tune.Tuner(\n",
    "#    \"PPO\",\n",
    "#    param_space=config.to_dict(),\n",
    "#    run_config=air.RunConfig(\n",
    "#        stop=stop,\n",
    "#        checkpoint_config=train.CheckpointConfig(\n",
    "#            checkpoint_frequency=50,\n",
    "#            checkpoint_at_end=True)),\n",
    "#)\n",
    "#tuner.fit()\n",
    "\n",
    "\n",
    "\n"
   ]
  },
  {
   "cell_type": "code",
   "execution_count": null,
   "metadata": {},
   "outputs": [],
   "source": [
    "# This checkpoint path will need to be updated every run to pick up in the right place.\n",
    "# Use the \"best checkpoint\" spit out below for reference\n",
    "checkpoint_path = 'C:\\\\Users\\\\Fitz\\\\ray_results\\\\PPO_2024-04-22_19-11-08\\\\PPO_CardGameEnv_bf9f4_00000_0_2024-04-22_19-11-08\\\\checkpoint_000009'\n",
    "stop = {\"training_iteration\": 1000}\n",
    "analysis = tune.run(\n",
    "    \"PPO\",  # or use ppo.PPOTrainer if you prefer not to use the string identifier\n",
    "    config=config,\n",
    "    restore=checkpoint_path,\n",
    "    stop=stop, \n",
    "    checkpoint_freq=50,  \n",
    "    checkpoint_at_end=True\n",
    ")"
   ]
  },
  {
   "cell_type": "code",
   "execution_count": null,
   "metadata": {},
   "outputs": [],
   "source": [
    "#Get best results\n",
    "best_trial = analysis.get_best_trial(\"episode_reward_mean\", \"max\", \"last\")\n",
    "best_checkpoint = analysis.get_best_checkpoint(best_trial, \"episode_reward_mean\", \"max\")\n",
    "print(\"Best checkpoint:\", best_checkpoint)"
   ]
  },
  {
   "cell_type": "markdown",
   "metadata": {
    "id": "SdlpGU8g05vu"
   },
   "source": [
    "## 3) Use RLlib to get as high an expected score as possible with 1 Play and 1 Discard."
   ]
  },
  {
   "cell_type": "code",
   "execution_count": null,
   "metadata": {
    "id": "V9GK9KrlQ8iI"
   },
   "outputs": [],
   "source": [
    "import gymnasium as gym\n",
    "from collections import Counter\n",
    "\n",
    "class CardGameEnv_One_play(gym.Env):\n",
    "    def __init__(self, seed=None):\n",
    "        self.hand_size = 8\n",
    "        self.MAX_PLAYS = 1  # Limit the number of plays to 1\n",
    "        self.MAX_DISCARDS = 1  # Limit the number of discards to 1\n",
    "\n",
    "        self.action_space = gym.spaces.MultiDiscrete([2]*(1+self.hand_size))\n",
    "        self.observation_space = gym.spaces.Dict({\n",
    "            'player_hand': gym.spaces.MultiBinary([13, 4]),\n",
    "            'cards_left_in_deck': gym.spaces.MultiBinary([13, 4])\n",
    "        })\n",
    "\n",
    "        self.num_discards = 0\n",
    "        self.num_plays = 0\n",
    "        self.deck = initialize_deck()\n",
    "        self.player_hand = deal_hand(self.deck, self.hand_size)\n",
    "        self.player_hand.sort()\n",
    "        self.state = state_function(self.player_hand, self.deck)\n",
    "\n",
    "\n",
    "    def reset(self, seed=None, options=None):\n",
    "        self.num_discards = 0\n",
    "        self.num_plays = 0\n",
    "        self.deck = initialize_deck()\n",
    "        self.player_hand = deal_hand(self.deck, self.hand_size)\n",
    "        self.player_hand.sort()\n",
    "        self.state = state_function(self.player_hand, self.deck)\n",
    "        return self.state, {}\n",
    "\n",
    "    #added by Ron\n",
    "    def save_checkpoint(self, tmp_checkpoint_dir):\n",
    "        checkpoint_path = os.path.join(tmp_checkpoint_dir, \"singleturn_model.pth\")\n",
    "        torch.save(self.model.state_dict(), checkpoint_path)\n",
    "        return tmp_checkpoint_dir\n",
    "\n",
    "    def load_checkpoint(self, tmp_checkpoint_dir):\n",
    "        checkpoint_path = os.path.join(tmp_checkpoint_dir, \"single_model.pth\")\n",
    "        self.model.load_state_dict(torch.load(checkpoint_path))\n",
    "\n",
    "    def step(self, action):\n",
    "        dec = action[0]\n",
    "        if self.num_discards >= self.MAX_DISCARDS:\n",
    "          dec = 1\n",
    "        if self.num_plays >= self.MAX_PLAYS:\n",
    "          dec = 0\n",
    "\n",
    "        selection = action[1:]\n",
    "        remaining_hand, selected_hand = partition_selected_unselected(self.player_hand, selection, max_select=5)\n",
    "\n",
    "        if dec == 1:  # Play\n",
    "            self.num_plays += 1\n",
    "            hand_rank_counts = Counter([rank for rank, _ in selected_hand])\n",
    "            hand_suit_counts = Counter([suit for _, suit in selected_hand])\n",
    "\n",
    "\n",
    "            # Define the mapping of card ranks to their order\n",
    "            card_order = {'Ace': 0, '2': 1, '3': 2, '4': 3, '5': 4, '6': 5, '7': 6, '8': 7, '9': 8, '10': 9, 'Jack': 10, 'Queen': 11, 'King': 12}\n",
    "\n",
    "            # Check for different hand categories\n",
    "            if len(hand_rank_counts) == 5 and len(hand_suit_counts) == 1 and all(rank in ['10', 'Jack', 'Queen', 'King', 'Ace'] for rank, _ in selected_hand):\n",
    "                hand_category = \"Royal Flush\"\n",
    "            elif len(hand_rank_counts) == 5 and len(hand_suit_counts) == 1 and all(rank in card_order.keys() for rank, _ in selected_hand) and sorted(selected_hand, key=lambda x: card_order[x[0]]) in (['Ace','2', '3', '4', '5'], ['2', '3', '4', '5', '6'], ['3', '4', '5', '6', '7'], ['4', '5', '6', '7', '8'], ['5', '6', '7', '8', '9'], ['6', '7', '8', '9', '10'], ['7', '8', '9', '10', 'Jack'], ['8', '9', '10', 'Jack', 'Queen'], ['9', '10', 'Jack', 'Queen', 'King']):\n",
    "                hand_category = \"Straight Flush\"\n",
    "            elif any(count == 4 for count in hand_rank_counts.values()):\n",
    "                hand_category = \"Four of a Kind\"\n",
    "            elif any(count == 3 for count in hand_rank_counts.values()) and any(count == 2 for count in hand_rank_counts.values()):\n",
    "                hand_category = \"Full House\"\n",
    "            elif len(hand_suit_counts) == 1 and len(selected_hand) == 5:\n",
    "                hand_category = \"Flush\"\n",
    "            elif len(hand_rank_counts) == 5 and all(rank in card_order.keys() for rank, _ in selected_hand) and sorted(selected_hand, key=lambda x: card_order[x[0]]) in (['Ace','2', '3', '4', '5'], ['2', '3', '4', '5', '6'], ['3', '4', '5', '6', '7'], ['4', '5', '6', '7', '8'], ['5', '6', '7', '8', '9'], ['6', '7', '8', '9', '10'], ['7', '8', '9', '10', 'Jack'], ['8', '9', '10', 'Jack', 'Queen'], ['9', '10', 'Jack', 'Queen', 'King']):\n",
    "                hand_category = \"Straight\"\n",
    "            elif any(count == 3 for count in hand_rank_counts.values()):\n",
    "                hand_category = \"Three of a Kind\"\n",
    "            elif sum(count == 2 for count in hand_rank_counts.values()) == 2:\n",
    "                hand_category = \"Two Pair\"\n",
    "            elif any(count == 2 for count in hand_rank_counts.values()):\n",
    "                hand_category = \"Pair\"\n",
    "            else:\n",
    "                hand_category = \"High Card\"\n",
    "\n",
    "            reward = rewards.get(hand_category, 0)  # Reward based on hand category\n",
    "\n",
    "        elif dec == 0:  # Discard\n",
    "            self.num_discards += 1\n",
    "            reward = 0  # Discarding has no reward\n",
    "\n",
    "        self.player_hand = remaining_hand + deal_hand(self.deck, len(selected_hand))\n",
    "        self.player_hand.sort()\n",
    "        self.state = state_function(self.player_hand, self.deck)\n",
    "\n",
    "        done = self.num_plays == self.MAX_PLAYS or len(self.deck) == 0\n",
    "\n",
    "        #print(f\"Player's Hand: {', '.join([f'{rank} of {suit}' for rank, suit in self.player_hand])}\")\n",
    "        #print(f\"Action: {action}, Reward: {reward}, Done: {done}\")\n",
    "\n",
    "        return self.state, reward, done, False, {}"
   ]
  },
  {
   "cell_type": "code",
   "execution_count": null,
   "metadata": {
    "colab": {
     "base_uri": "https://localhost:8080/"
    },
    "id": "qowAjF6TQ8rw",
    "outputId": "34a84b0f-bbca-4913-9a78-6b9f1a43bd08"
   },
   "outputs": [],
   "source": [
    "# Create an instance of the CardGameEnv class\n",
    "env = CardGameEnv_One_play()\n",
    "env.reset()\n",
    "\n",
    "#Nice way to test Action Space before running RLLib\n",
    "action = env.action_space.sample()\n",
    "print(action)\n",
    "print(env.player_hand)\n",
    "state, _, _, _, _ = env.step(action)\n",
    "len(state['cards_left_in_deck'])\n",
    "print(env.player_hand)"
   ]
  },
  {
   "cell_type": "code",
   "execution_count": null,
   "metadata": {
    "colab": {
     "base_uri": "https://localhost:8080/"
    },
    "id": "NkgfnZQcRe80",
    "outputId": "e1f69dc0-6102-4327-8213-12124c6c64d9"
   },
   "outputs": [],
   "source": [
    "# Create an instance of the CardGameEnv_One_play class\n",
    "env = CardGameEnv_One_play()\n",
    "env.reset()\n",
    "\n",
    "env.observation_space.sample()\n",
    "\n",
    "# Testing if our observation space matches is being returned by our step function\n",
    "env.observation_space.contains(state)"
   ]
  },
  {
   "cell_type": "code",
   "execution_count": null,
   "metadata": {
    "colab": {
     "base_uri": "https://localhost:8080/"
    },
    "id": "wiBuAGsuRe_r",
    "outputId": "a846f48a-50e7-45ad-c0a7-ef6cad40665b"
   },
   "outputs": [],
   "source": [
    "state, _ = env.reset()\n",
    "env.observation_space.contains(state)"
   ]
  },
  {
   "cell_type": "code",
   "execution_count": null,
   "metadata": {
    "colab": {
     "base_uri": "https://localhost:8080/"
    },
    "id": "5yg_ARjvRfF-",
    "outputId": "2c387b67-a731-490f-c537-c7b4ff70f37e"
   },
   "outputs": [],
   "source": [
    "# Create an instance of the CardGameEnv_One_play class\n",
    "env = CardGameEnv_One_play()\n",
    "env.reset()\n",
    "\n",
    "total_reward = 0  # Initialize total reward\n",
    "\n",
    "# Game loop\n",
    "while True:\n",
    "    print(\"Player's Hand:\")\n",
    "    for rank, suit in env.player_hand:\n",
    "        print(f\"{rank} of {suit}\")\n",
    "\n",
    "    action = env.action_space.sample()\n",
    "\n",
    "    state, reward, done, _, _ = env.step(action) # Ignoring False, {}\n",
    "\n",
    "    total_reward += reward  # Accumulate the reward obtained in each step\n",
    "\n",
    "    print(f\"Decision made by the player: {action}\")\n",
    "    print(f\"Total Reward after this turn: {total_reward}\")\n",
    "\n",
    "    if done:\n",
    "        break\n",
    "\n",
    "print(\"Game over\")"
   ]
  },
  {
   "cell_type": "code",
   "execution_count": null,
   "metadata": {
    "colab": {
     "base_uri": "https://localhost:8080/"
    },
    "id": "J1I3MO9QRfJD",
    "outputId": "02f71abf-8b9c-4aaf-c455-cca976e5b38c"
   },
   "outputs": [],
   "source": [
    "one_play_config = (PPOConfig()\n",
    "          .environment(CardGameEnv_One_play)\n",
    "          .framework('torch')\n",
    "          .training(gamma=1)\n",
    "          .rollouts(num_rollout_workers=19)\n",
    ")\n",
    "\n",
    "#stop = {\"timesteps_total\": 1000000}\n",
    "#\n",
    "#tuner = tune.Tuner(\n",
    "#    \"PPO\",\n",
    "#    param_space=config.to_dict(),\n",
    "#    run_config=air.RunConfig(stop=stop, checkpoint_config=train.CheckpointConfig(checkpoint_frequency=50, checkpoint_at_end=True)),\n",
    "#)\n",
    "#\n",
    "#tuner.fit()\n",
    "\n",
    "one_play_checkpoint_path = 'C:\\\\Users\\\\Fitz\\\\ray_results\\\\PPO_2024-04-22_20-50-14\\\\PPO_CardGameEnv_One_play_97cf1_00000_0_2024-04-22_20-50-14\\\\checkpoint_000004'\n",
    "one_play_stop = {\"training_iteration\": 1000}\n",
    "one_play_analysis = tune.run(\n",
    "    \"PPO\",  # or use ppo.PPOTrainer if you prefer not to use the string identifier\n",
    "    config=one_play_config,\n",
    "    restore=one_play_checkpoint_path,\n",
    "    stop=one_play_stop, \n",
    "    checkpoint_freq=50,  \n",
    "    checkpoint_at_end=True\n",
    ")\n",
    "\n",
    "one_play_best_trial = one_play_analysis.get_best_trial(\"episode_reward_mean\", \"max\", \"last\")\n",
    "one_play_best_checkpoint = one_play_analysis.get_best_checkpoint(best_trial, \"episode_reward_mean\", \"max\")\n",
    "print(\"Best checkpoint:\", best_checkpoint)"
   ]
  },
  {
   "cell_type": "markdown",
   "metadata": {
    "id": "V84GUpgAb9Q9"
   },
   "source": [
    "## Thank you!"
   ]
  },
  {
   "cell_type": "code",
   "execution_count": null,
   "metadata": {},
   "outputs": [],
   "source": []
  }
 ],
 "metadata": {
  "colab": {
   "provenance": []
  },
  "kernelspec": {
   "display_name": "Python 3 (ipykernel)",
   "language": "python",
   "name": "python3"
  },
  "language_info": {
   "codemirror_mode": {
    "name": "ipython",
    "version": 3
   },
   "file_extension": ".py",
   "mimetype": "text/x-python",
   "name": "python",
   "nbconvert_exporter": "python",
   "pygments_lexer": "ipython3",
   "version": "3.10.11"
  }
 },
 "nbformat": 4,
 "nbformat_minor": 4
}
