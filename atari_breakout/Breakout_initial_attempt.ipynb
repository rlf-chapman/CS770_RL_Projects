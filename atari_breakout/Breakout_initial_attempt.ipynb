{
 "cells": [
  {
   "cell_type": "markdown",
   "id": "78fec68a-c140-4cfe-88c6-91a454fcef62",
   "metadata": {},
   "source": [
    "# Atari Breakout in RLlib"
   ]
  },
  {
   "cell_type": "code",
   "execution_count": null,
   "id": "d6d76bd2-8a69-429c-bf5c-b0fca8cc9f66",
   "metadata": {},
   "outputs": [],
   "source": [
    "#!pip install ray[rllib]\n",
    "#!pip install ipywidgets gputil\n",
    "#!pip install gym[atari] autorom[accept-rom-license] ray[rllib] torch torchvision"
   ]
  },
  {
   "cell_type": "code",
   "execution_count": null,
   "id": "de34c57b-d04e-443e-8145-24d99efa8c41",
   "metadata": {},
   "outputs": [],
   "source": [
    "import gym\n",
    "import ray\n",
    "from ray import tune\n",
    "\n",
    "def main():\n",
    "    ray.init(log_to_driver=False)\n",
    "    \n",
    "    config = {\n",
    "        \"env\": \"Breakout-v5\",\n",
    "        \"num_workers\": 1,  \n",
    "        \"framework\": \"torch\",  \n",
    "        \"model\": {\n",
    "           \"dim\": 84,\n",
    "            \"conv_filters\": [\n",
    "                [32, [8, 8], 4],\n",
    "                [64, [4, 4], 2],\n",
    "                [64, [3, 3], 1]\n",
    "            ],\n",
    "            \"conv_activation\": \"relu\",\n",
    "        },\n",
    "        \"lr\": 0.0001,\n",
    "        \"gamma\": 0.99,\n",
    "        \"train_batch_size\": 5000,\n",
    "        \"rollout_fragment_length\": \"auto\",\n",
    "        \"sgd_minibatch_size\": 500,\n",
    "        \"num_sgd_iter\": 10,\n",
    "        \"clip_param\": 0.2,\n",
    "        \"entropy_coeff\": 0.01,\n",
    "    }\n",
    "\n",
    "    stop_criteria = {\n",
    "        \"training_iteration\": 200,\n",
    "        \"episode_reward_mean\": 200,\n",
    "    }\n",
    "\n",
    "    results = tune.run(\n",
    "        \"PPO\",\n",
    "        config=config,\n",
    "        stop=stop_criteria,\n",
    "        checkpoint_at_end=True,\n",
    "        checkpoint_freq=10\n",
    "    )\n",
    "    \n",
    "    checkpoints = results.get_trial_checkpoints_paths(\n",
    "        trial=results.get_best_trial(\"episode_reward_mean\"),\n",
    "        metric=\"episode_reward_mean\"\n",
    "    )\n",
    "    \n",
    "    print(\"Best checkpoint path:\", checkpoints[0][0])\n",
    "\n",
    "if __name__ == \"__main__\":\n",
    "    main()"
   ]
  },
  {
   "cell_type": "code",
   "execution_count": null,
   "id": "89c75591-821c-4243-af52-9bf8c80082bd",
   "metadata": {},
   "outputs": [],
   "source": []
  }
 ],
 "metadata": {
  "kernelspec": {
   "display_name": "Python 3 (ipykernel)",
   "language": "python",
   "name": "python3"
  },
  "language_info": {
   "codemirror_mode": {
    "name": "ipython",
    "version": 3
   },
   "file_extension": ".py",
   "mimetype": "text/x-python",
   "name": "python",
   "nbconvert_exporter": "python",
   "pygments_lexer": "ipython3",
   "version": "3.10.11"
  }
 },
 "nbformat": 4,
 "nbformat_minor": 5
}
